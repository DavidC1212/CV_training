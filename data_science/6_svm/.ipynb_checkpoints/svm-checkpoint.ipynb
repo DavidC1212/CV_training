{
 "cells": [
  {
   "cell_type": "markdown",
   "id": "e17710f6-1ec0-4a74-a61d-23591d5e05d4",
   "metadata": {},
   "source": [
    "# excerise 3"
   ]
  },
  {
   "cell_type": "code",
   "execution_count": 2,
   "id": "3e69928a-4645-4206-8aa0-465092602aab",
   "metadata": {},
   "outputs": [],
   "source": [
    "import numpy as np\n",
    "import matplotlib.pyplot as plt"
   ]
  },
  {
   "cell_type": "code",
   "execution_count": 8,
   "id": "fa0be139-7f18-4183-8e07-086e87e8892c",
   "metadata": {},
   "outputs": [
    {
     "data": {
      "image/png": "[encoded data removed]",
      "text/plain": [
       "<Figure size 432x288 with 1 Axes>"
      ]
     },
     "metadata": {
      "needs_background": "light"
     },
     "output_type": "display_data"
    }
   ],
   "source": [
    "x_red = [3,2,4,1]\n",
    "y_red= [4,2,4,4]\n",
    "\n",
    "x_blue =[2,4,4]\n",
    "y_blue = [1,3,1]\n",
    "\n",
    "plt.scatter(x_red, y_red, color='r')\n",
    "plt.scatter(x_blue, y_blue, color='b')\n",
    "plt.show()"
   ]
  },
  {
   "cell_type": "code",
   "execution_count": 37,
   "id": "40a64aa9-8304-4a5e-8716-3db57fa462be",
   "metadata": {},
   "outputs": [],
   "source": [
    "X = np.concatenate((np.array(x_red), np.array(x_blue))).reshape(-1,1)\n",
    "y = np.concatenate((np.array(y_red), np.array(y_blue))).reshape(-1,1)\n",
    "X = np.concatenate((X,y), axis=1)\n",
    "b = np.ones((7,1))\n",
    "X = np.concatenate((X, b), axis=1)\n"
   ]
  },
  {
   "cell_type": "code",
   "execution_count": 38,
   "id": "f503da44-0690-4d62-b496-93c84499fc3f",
   "metadata": {},
   "outputs": [
    {
     "data": {
      "text/plain": [
       "array([[3., 4., 1.],\n",
       "       [2., 2., 1.],\n",
       "       [4., 4., 1.],\n",
       "       [1., 4., 1.],\n",
       "       [2., 1., 1.],\n",
       "       [4., 3., 1.],\n",
       "       [4., 1., 1.]])"
      ]
     },
     "execution_count": 38,
     "metadata": {},
     "output_type": "execute_result"
    }
   ],
   "source": []
  },
  {
   "cell_type": "code",
   "execution_count": 18,
   "id": "0bac3fbf-f720-483f-b0b8-ea7bf4db75be",
   "metadata": {},
   "outputs": [],
   "source": [
    "target = np.array([0,0,0,0,1,1,1], dtype=np.float64)"
   ]
  },
  {
   "cell_type": "code",
   "execution_count": 42,
   "id": "5644687f-d618-4e8f-9d40-bd761a104fab",
   "metadata": {},
   "outputs": [
    {
     "name": "stdout",
     "output_type": "stream",
     "text": [
      "Epoch is:1 and Cost is: 0.9809717582239261\n",
      "Epoch is:2 and Cost is: 0.9622374530203679\n",
      "Epoch is:3 and Cost is: 0.943755744376016\n",
      "Epoch is:4 and Cost is: 0.9254872646748332\n",
      "Epoch is:5 and Cost is: 0.9075221193779576\n",
      "Epoch is:6 and Cost is: 0.8897695494425043\n",
      "Epoch is:7 and Cost is: 0.8723009733965236\n",
      "Epoch is:8 and Cost is: 0.8550983984308107\n",
      "Epoch is:9 and Cost is: 0.8380716829304717\n",
      "Epoch is:10 and Cost is: 0.821317847791623\n",
      "Epoch is:11 and Cost is: 0.8047687028531683\n",
      "Epoch is:12 and Cost is: 0.7884807743065841\n",
      "Epoch is:13 and Cost is: 0.7723750625469471\n",
      "Epoch is:14 and Cost is: 0.7565119204755221\n",
      "Epoch is:15 and Cost is: 0.7408859229372777\n",
      "Epoch is:16 and Cost is: 0.7254563369090065\n",
      "Epoch is:17 and Cost is: 0.7102559096146043\n",
      "Epoch is:18 and Cost is: 0.6952711635844795\n",
      "Epoch is:19 and Cost is: 0.6886690155227105\n",
      "Epoch is:20 and Cost is: 0.6847789731486987\n",
      "Epoch is:21 and Cost is: 0.68092342996283\n",
      "Epoch is:22 and Cost is: 0.6771299374426298\n",
      "Epoch is:23 and Cost is: 0.6733808987854072\n",
      "Epoch is:24 and Cost is: 0.669692312117336\n",
      "Epoch is:25 and Cost is: 0.666055497962356\n",
      "Epoch is:26 and Cost is: 0.662470098821911\n",
      "Epoch is:27 and Cost is: 0.6599152008574938\n",
      "Epoch is:28 and Cost is: 0.6598190553708604\n",
      "Epoch is:29 and Cost is: 0.6597253268810224\n",
      "Epoch is:30 and Cost is: 0.6596323675030875\n",
      "Epoch is:31 and Cost is: 0.6595414960948947\n",
      "Epoch is:32 and Cost is: 0.6594513601703823\n",
      "Epoch is:33 and Cost is: 0.6593632593171205\n",
      "Epoch is:34 and Cost is: 0.6592753433919799\n",
      "Epoch is:35 and Cost is: 0.6591889094711219\n",
      "Epoch is:36 and Cost is: 0.6591036777874528\n",
      "Epoch is:37 and Cost is: 0.6590201383942528\n",
      "Epoch is:38 and Cost is: 0.6589364974619699\n",
      "Epoch is:39 and Cost is: 0.6588555258643326\n",
      "Epoch is:40 and Cost is: 0.6587746828250616\n",
      "Epoch is:41 and Cost is: 0.658694719001759\n",
      "Epoch is:42 and Cost is: 0.6586156253908511\n",
      "Epoch is:43 and Cost is: 0.658539096155239\n",
      "Epoch is:44 and Cost is: 0.6584621773865114\n",
      "Epoch is:45 and Cost is: 0.6583865740001159\n",
      "Epoch is:46 and Cost is: 0.6583132155323175\n",
      "Epoch is:47 and Cost is: 0.658240164155591\n",
      "Epoch is:48 and Cost is: 0.6581676587910678\n",
      "Epoch is:49 and Cost is: 0.6580963987340157\n",
      "Epoch is:50 and Cost is: 0.6580256675292131\n",
      "Epoch is:51 and Cost is: 0.6579559250554416\n",
      "Epoch is:52 and Cost is: 0.6578878433452666\n",
      "Epoch is:53 and Cost is: 0.6578209351741688\n",
      "Epoch is:54 and Cost is: 0.6577549560746787\n",
      "Epoch is:55 and Cost is: 0.6576903393417648\n",
      "Epoch is:56 and Cost is: 0.6576259517471298\n",
      "Epoch is:57 and Cost is: 0.6575631201151052\n",
      "Epoch is:58 and Cost is: 0.6575007208721687\n",
      "Epoch is:59 and Cost is: 0.6574391880387144\n",
      "Epoch is:60 and Cost is: 0.657378293786509\n",
      "Epoch is:61 and Cost is: 0.6573178173423604\n",
      "Epoch is:62 and Cost is: 0.6572590366151779\n",
      "Epoch is:63 and Cost is: 0.6572002249260975\n",
      "Epoch is:64 and Cost is: 0.6571430739123587\n",
      "Epoch is:65 and Cost is: 0.657086298404161\n",
      "Epoch is:66 and Cost is: 0.6570305195124398\n",
      "Epoch is:67 and Cost is: 0.6569746919489785\n",
      "Epoch is:68 and Cost is: 0.6569198498861675\n",
      "Epoch is:69 and Cost is: 0.656866786428916\n",
      "Epoch is:70 and Cost is: 0.6568140550759377\n",
      "Epoch is:71 and Cost is: 0.6567614558336734\n",
      "Epoch is:72 and Cost is: 0.6567097897948817\n",
      "Epoch is:73 and Cost is: 0.6566588437867998\n",
      "Epoch is:74 and Cost is: 0.6566093898506784\n",
      "Epoch is:75 and Cost is: 0.6565600375195972\n",
      "Epoch is:76 and Cost is: 0.6565119498089969\n",
      "Epoch is:77 and Cost is: 0.6564635690846832\n",
      "Epoch is:78 and Cost is: 0.6564158640045189\n",
      "Epoch is:79 and Cost is: 0.656369581083535\n",
      "Epoch is:80 and Cost is: 0.6563235643262755\n",
      "Epoch is:81 and Cost is: 0.6562781876301759\n",
      "Epoch is:82 and Cost is: 0.6562338118648806\n",
      "Epoch is:83 and Cost is: 0.6561900507787707\n",
      "Epoch is:84 and Cost is: 0.6561463485602159\n",
      "Epoch is:85 and Cost is: 0.6561032554894594\n",
      "Epoch is:86 and Cost is: 0.6560605828590704\n",
      "Epoch is:87 and Cost is: 0.6560193993648815\n",
      "Epoch is:88 and Cost is: 0.655977720217541\n",
      "Epoch is:89 and Cost is: 0.6559371539723711\n",
      "Epoch is:90 and Cost is: 0.655896976909767\n",
      "Epoch is:91 and Cost is: 0.6558570117298091\n",
      "Epoch is:92 and Cost is: 0.6558186412766759\n",
      "Epoch is:93 and Cost is: 0.6557799447029816\n",
      "Epoch is:94 and Cost is: 0.6557416182485618\n",
      "Epoch is:95 and Cost is: 0.6557039978416587\n",
      "Epoch is:96 and Cost is: 0.6556672388834136\n",
      "Epoch is:97 and Cost is: 0.6556309912165198\n",
      "Epoch is:98 and Cost is: 0.6555957432139176\n",
      "Epoch is:99 and Cost is: 0.6555601611566237\n"
     ]
    }
   ],
   "source": [
    "from sklearn.utils import shuffle\n",
    "def compute_cost(W, X, Y):\n",
    "    # calculate hinge loss\n",
    "    N = X.shape[0]\n",
    "    distances = 1 - Y * (np.dot(X, W))\n",
    "    distances[distances < 0] = 0  # equivalent to max(0, distance)\n",
    "    hinge_loss =  (np.sum(distances) / N)\n",
    "    \n",
    "    # calculate cost\n",
    "    cost = 1 / 2 * np.dot(W, W) + hinge_loss\n",
    "    return cost\n",
    "\n",
    "def calculate_cost_gradient(W, X_batch, Y_batch):\n",
    "    # if only one example is passed (eg. in case of SGD)\n",
    "    if type(Y_batch) == np.float64:\n",
    "        Y_batch = np.array([Y_batch])\n",
    "        X_batch = np.array([X_batch])\n",
    "    distance = 1 - (Y_batch * np.dot(X_batch, W))\n",
    "    dw = np.zeros(len(W))\n",
    "    for ind, d in enumerate(distance):\n",
    "        if max(0, d) == 0:\n",
    "            di = W\n",
    "        else:\n",
    "            di = W - Y_batch[ind] * X_batch[ind]\n",
    "        \n",
    "        dw += di\n",
    "    dw = dw/len(Y_batch)  # average\n",
    "    return dw\n",
    "\n",
    "\n",
    "def sgd(features, outputs):\n",
    "    max_epochs = 100\n",
    "    weights = np.zeros(features.shape[1])\n",
    "    nth = 0\n",
    "    prev_cost = float(\"inf\")\n",
    "    learning_rate = 0.001\n",
    "    # stochastic gradient descent\n",
    "    for epoch in range(1, max_epochs):\n",
    "        # shuffle to prevent repeating update cycles\n",
    "        X, Y = shuffle(features, outputs)\n",
    "        for i, x in enumerate(X):\n",
    "            ascent = calculate_cost_gradient(weights, x, Y[i])\n",
    "            weights = weights - (learning_rate * ascent)\n",
    "        # convergence check on 2^nth epoch\n",
    "            cost = compute_cost(weights, features, outputs)\n",
    "            # stoppage criterion\n",
    "            if abs(prev_cost - cost) < 0:\n",
    "                return weights\n",
    "            prev_cost = cost\n",
    "        print(\"Epoch is:{} and Cost is: {}\".format(epoch, cost))    \n",
    "    return weights\n",
    "\n",
    "\n",
    "weights = sgd(X, target)"
   ]
  },
  {
   "cell_type": "code",
   "execution_count": 43,
   "id": "9cda0b39-e823-4b3b-812f-1b6964bfdec6",
   "metadata": {},
   "outputs": [],
   "source": [
    "y_pred = weights[0] * X[:,0] + weights[1] * X[:,1] + weights[2]"
   ]
  },
  {
   "cell_type": "code",
   "execution_count": 45,
   "id": "ef55bfa7-4609-4a3c-9feb-52e59d8c6d4d",
   "metadata": {},
   "outputs": [
    {
     "data": {
      "image/png": "[encoded data removed]",
      "text/plain": [
       "<Figure size 432x288 with 1 Axes>"
      ]
     },
     "metadata": {
      "needs_background": "light"
     },
     "output_type": "display_data"
    }
   ],
   "source": [
    "x_red = [3,2,4,1]\n",
    "y_red= [4,2,4,4]\n",
    "\n",
    "x_blue =[2,4,4]\n",
    "y_blue = [1,3,1]\n",
    "\n",
    "plt.scatter(x_red, y_red, color='r')\n",
    "plt.scatter(x_blue, y_blue, color='b')\n",
    "plt.plot(X, y_pred)\n",
    "plt.show()"
   ]
  },
  {
   "cell_type": "code",
   "execution_count": null,
   "id": "2f4d035c-e97d-4e0b-8433-396feb01ec4b",
   "metadata": {},
   "outputs": [],
   "source": []
  }
 ],
 "metadata": {
  "kernelspec": {
   "display_name": "Python 3",
   "language": "python",
   "name": "python3"
  },
  "language_info": {
   "codemirror_mode": {
    "name": "ipython",
    "version": 3
   },
   "file_extension": ".py",
   "mimetype": "text/x-python",
   "name": "python",
   "nbconvert_exporter": "python",
   "pygments_lexer": "ipython3",
   "version": "3.7.6"
  }
 },
 "nbformat": 4,
 "nbformat_minor": 5
}
